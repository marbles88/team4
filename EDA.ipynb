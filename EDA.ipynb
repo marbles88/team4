{
  "nbformat": 4,
  "nbformat_minor": 0,
  "metadata": {
    "colab": {
      "provenance": []
    },
    "kernelspec": {
      "name": "python3",
      "display_name": "Python 3"
    },
    "language_info": {
      "name": "python"
    }
  },
  "cells": [
    {
      "cell_type": "code",
      "execution_count": 3,
      "metadata": {
        "id": "1olAVNcmkbca"
      },
      "outputs": [],
      "source": [
        "import pandas as pd"
      ]
    },
    {
      "cell_type": "code",
      "source": [
        "cols = {'MMSI': int, 'BaseDateTime': object, 'LAT': float, 'LON': float, 'SOG': \n",
        "        float, 'COG': float, 'VesselName': object, 'VesselType': float, \n",
        "        'Status': float, 'Length': float, 'Width': float, 'Draft': float, \n",
        "        'Cargo': float, 'TransceiverClass': object}"
      ],
      "metadata": {
        "id": "azequtJg1HkG"
      },
      "execution_count": 4,
      "outputs": []
    },
    {
      "cell_type": "code",
      "source": [
        "df = pd.read_csv('AIS_2022_12_31.csv', dtype=cols)"
      ],
      "metadata": {
        "id": "QIUkdt-qkdYX"
      },
      "execution_count": 5,
      "outputs": []
    },
    {
      "cell_type": "code",
      "source": [
        "df.head()"
      ],
      "metadata": {
        "colab": {
          "base_uri": "https://localhost:8080/",
          "height": 204
        },
        "id": "QYjvPTnzk0RJ",
        "outputId": "88e5e400-f86f-4798-f156-a28546e578b8"
      },
      "execution_count": 6,
      "outputs": [
        {
          "output_type": "execute_result",
          "data": {
            "text/plain": [
              "        MMSI         BaseDateTime       LAT        LON   SOG    COG  Heading  \\\n",
              "0  538008852  2022-12-31T00:00:00  29.86518  -89.91413  12.5  242.0    255.0   \n",
              "1  368086520  2022-12-31T00:00:00  29.41907  -89.33871   0.0  283.0    511.0   \n",
              "2  368113360  2022-12-31T00:00:01  34.02455  -90.94616   5.8   96.3    511.0   \n",
              "3  316033829  2022-12-31T00:00:00  49.29923 -123.02684   0.6   11.6    511.0   \n",
              "4  538006227  2022-12-31T00:00:01  22.62485  -96.69877  16.4   81.7     80.0   \n",
              "\n",
              "        VesselName         IMO CallSign  VesselType  Status  Length  Width  \\\n",
              "0          KALINKA  IMO9367683  V7A2832        89.0     0.0   182.0   32.0   \n",
              "1     MASTER DYLAN  IMO0000000  WDK7657        56.0     NaN     0.0    0.0   \n",
              "2            LEE W  IMO1297828  WDL2576        57.0    12.0   224.0   17.0   \n",
              "3  ADVENTURE BOUND  IMO0000000      NaN        37.0     NaN    13.0    4.0   \n",
              "4    GLOVIS COSMOS  IMO9707027    V7KV9        70.0     0.0   199.0   32.0   \n",
              "\n",
              "   Draft  Cargo TransceiverClass  \n",
              "0   11.3   80.0                A  \n",
              "1    NaN    NaN                B  \n",
              "2    2.8   57.0                A  \n",
              "3    NaN    NaN                B  \n",
              "4   10.0   70.0                A  "
            ],
            "text/html": [
              "\n",
              "  <div id=\"df-8a0be49a-5cbf-477c-bc45-2aea8079efa2\">\n",
              "    <div class=\"colab-df-container\">\n",
              "      <div>\n",
              "<style scoped>\n",
              "    .dataframe tbody tr th:only-of-type {\n",
              "        vertical-align: middle;\n",
              "    }\n",
              "\n",
              "    .dataframe tbody tr th {\n",
              "        vertical-align: top;\n",
              "    }\n",
              "\n",
              "    .dataframe thead th {\n",
              "        text-align: right;\n",
              "    }\n",
              "</style>\n",
              "<table border=\"1\" class=\"dataframe\">\n",
              "  <thead>\n",
              "    <tr style=\"text-align: right;\">\n",
              "      <th></th>\n",
              "      <th>MMSI</th>\n",
              "      <th>BaseDateTime</th>\n",
              "      <th>LAT</th>\n",
              "      <th>LON</th>\n",
              "      <th>SOG</th>\n",
              "      <th>COG</th>\n",
              "      <th>Heading</th>\n",
              "      <th>VesselName</th>\n",
              "      <th>IMO</th>\n",
              "      <th>CallSign</th>\n",
              "      <th>VesselType</th>\n",
              "      <th>Status</th>\n",
              "      <th>Length</th>\n",
              "      <th>Width</th>\n",
              "      <th>Draft</th>\n",
              "      <th>Cargo</th>\n",
              "      <th>TransceiverClass</th>\n",
              "    </tr>\n",
              "  </thead>\n",
              "  <tbody>\n",
              "    <tr>\n",
              "      <th>0</th>\n",
              "      <td>538008852</td>\n",
              "      <td>2022-12-31T00:00:00</td>\n",
              "      <td>29.86518</td>\n",
              "      <td>-89.91413</td>\n",
              "      <td>12.5</td>\n",
              "      <td>242.0</td>\n",
              "      <td>255.0</td>\n",
              "      <td>KALINKA</td>\n",
              "      <td>IMO9367683</td>\n",
              "      <td>V7A2832</td>\n",
              "      <td>89.0</td>\n",
              "      <td>0.0</td>\n",
              "      <td>182.0</td>\n",
              "      <td>32.0</td>\n",
              "      <td>11.3</td>\n",
              "      <td>80.0</td>\n",
              "      <td>A</td>\n",
              "    </tr>\n",
              "    <tr>\n",
              "      <th>1</th>\n",
              "      <td>368086520</td>\n",
              "      <td>2022-12-31T00:00:00</td>\n",
              "      <td>29.41907</td>\n",
              "      <td>-89.33871</td>\n",
              "      <td>0.0</td>\n",
              "      <td>283.0</td>\n",
              "      <td>511.0</td>\n",
              "      <td>MASTER DYLAN</td>\n",
              "      <td>IMO0000000</td>\n",
              "      <td>WDK7657</td>\n",
              "      <td>56.0</td>\n",
              "      <td>NaN</td>\n",
              "      <td>0.0</td>\n",
              "      <td>0.0</td>\n",
              "      <td>NaN</td>\n",
              "      <td>NaN</td>\n",
              "      <td>B</td>\n",
              "    </tr>\n",
              "    <tr>\n",
              "      <th>2</th>\n",
              "      <td>368113360</td>\n",
              "      <td>2022-12-31T00:00:01</td>\n",
              "      <td>34.02455</td>\n",
              "      <td>-90.94616</td>\n",
              "      <td>5.8</td>\n",
              "      <td>96.3</td>\n",
              "      <td>511.0</td>\n",
              "      <td>LEE W</td>\n",
              "      <td>IMO1297828</td>\n",
              "      <td>WDL2576</td>\n",
              "      <td>57.0</td>\n",
              "      <td>12.0</td>\n",
              "      <td>224.0</td>\n",
              "      <td>17.0</td>\n",
              "      <td>2.8</td>\n",
              "      <td>57.0</td>\n",
              "      <td>A</td>\n",
              "    </tr>\n",
              "    <tr>\n",
              "      <th>3</th>\n",
              "      <td>316033829</td>\n",
              "      <td>2022-12-31T00:00:00</td>\n",
              "      <td>49.29923</td>\n",
              "      <td>-123.02684</td>\n",
              "      <td>0.6</td>\n",
              "      <td>11.6</td>\n",
              "      <td>511.0</td>\n",
              "      <td>ADVENTURE BOUND</td>\n",
              "      <td>IMO0000000</td>\n",
              "      <td>NaN</td>\n",
              "      <td>37.0</td>\n",
              "      <td>NaN</td>\n",
              "      <td>13.0</td>\n",
              "      <td>4.0</td>\n",
              "      <td>NaN</td>\n",
              "      <td>NaN</td>\n",
              "      <td>B</td>\n",
              "    </tr>\n",
              "    <tr>\n",
              "      <th>4</th>\n",
              "      <td>538006227</td>\n",
              "      <td>2022-12-31T00:00:01</td>\n",
              "      <td>22.62485</td>\n",
              "      <td>-96.69877</td>\n",
              "      <td>16.4</td>\n",
              "      <td>81.7</td>\n",
              "      <td>80.0</td>\n",
              "      <td>GLOVIS COSMOS</td>\n",
              "      <td>IMO9707027</td>\n",
              "      <td>V7KV9</td>\n",
              "      <td>70.0</td>\n",
              "      <td>0.0</td>\n",
              "      <td>199.0</td>\n",
              "      <td>32.0</td>\n",
              "      <td>10.0</td>\n",
              "      <td>70.0</td>\n",
              "      <td>A</td>\n",
              "    </tr>\n",
              "  </tbody>\n",
              "</table>\n",
              "</div>\n",
              "      <button class=\"colab-df-convert\" onclick=\"convertToInteractive('df-8a0be49a-5cbf-477c-bc45-2aea8079efa2')\"\n",
              "              title=\"Convert this dataframe to an interactive table.\"\n",
              "              style=\"display:none;\">\n",
              "        \n",
              "  <svg xmlns=\"http://www.w3.org/2000/svg\" height=\"24px\"viewBox=\"0 0 24 24\"\n",
              "       width=\"24px\">\n",
              "    <path d=\"M0 0h24v24H0V0z\" fill=\"none\"/>\n",
              "    <path d=\"M18.56 5.44l.94 2.06.94-2.06 2.06-.94-2.06-.94-.94-2.06-.94 2.06-2.06.94zm-11 1L8.5 8.5l.94-2.06 2.06-.94-2.06-.94L8.5 2.5l-.94 2.06-2.06.94zm10 10l.94 2.06.94-2.06 2.06-.94-2.06-.94-.94-2.06-.94 2.06-2.06.94z\"/><path d=\"M17.41 7.96l-1.37-1.37c-.4-.4-.92-.59-1.43-.59-.52 0-1.04.2-1.43.59L10.3 9.45l-7.72 7.72c-.78.78-.78 2.05 0 2.83L4 21.41c.39.39.9.59 1.41.59.51 0 1.02-.2 1.41-.59l7.78-7.78 2.81-2.81c.8-.78.8-2.07 0-2.86zM5.41 20L4 18.59l7.72-7.72 1.47 1.35L5.41 20z\"/>\n",
              "  </svg>\n",
              "      </button>\n",
              "      \n",
              "  <style>\n",
              "    .colab-df-container {\n",
              "      display:flex;\n",
              "      flex-wrap:wrap;\n",
              "      gap: 12px;\n",
              "    }\n",
              "\n",
              "    .colab-df-convert {\n",
              "      background-color: #E8F0FE;\n",
              "      border: none;\n",
              "      border-radius: 50%;\n",
              "      cursor: pointer;\n",
              "      display: none;\n",
              "      fill: #1967D2;\n",
              "      height: 32px;\n",
              "      padding: 0 0 0 0;\n",
              "      width: 32px;\n",
              "    }\n",
              "\n",
              "    .colab-df-convert:hover {\n",
              "      background-color: #E2EBFA;\n",
              "      box-shadow: 0px 1px 2px rgba(60, 64, 67, 0.3), 0px 1px 3px 1px rgba(60, 64, 67, 0.15);\n",
              "      fill: #174EA6;\n",
              "    }\n",
              "\n",
              "    [theme=dark] .colab-df-convert {\n",
              "      background-color: #3B4455;\n",
              "      fill: #D2E3FC;\n",
              "    }\n",
              "\n",
              "    [theme=dark] .colab-df-convert:hover {\n",
              "      background-color: #434B5C;\n",
              "      box-shadow: 0px 1px 3px 1px rgba(0, 0, 0, 0.15);\n",
              "      filter: drop-shadow(0px 1px 2px rgba(0, 0, 0, 0.3));\n",
              "      fill: #FFFFFF;\n",
              "    }\n",
              "  </style>\n",
              "\n",
              "      <script>\n",
              "        const buttonEl =\n",
              "          document.querySelector('#df-8a0be49a-5cbf-477c-bc45-2aea8079efa2 button.colab-df-convert');\n",
              "        buttonEl.style.display =\n",
              "          google.colab.kernel.accessAllowed ? 'block' : 'none';\n",
              "\n",
              "        async function convertToInteractive(key) {\n",
              "          const element = document.querySelector('#df-8a0be49a-5cbf-477c-bc45-2aea8079efa2');\n",
              "          const dataTable =\n",
              "            await google.colab.kernel.invokeFunction('convertToInteractive',\n",
              "                                                     [key], {});\n",
              "          if (!dataTable) return;\n",
              "\n",
              "          const docLinkHtml = 'Like what you see? Visit the ' +\n",
              "            '<a target=\"_blank\" href=https://colab.research.google.com/notebooks/data_table.ipynb>data table notebook</a>'\n",
              "            + ' to learn more about interactive tables.';\n",
              "          element.innerHTML = '';\n",
              "          dataTable['output_type'] = 'display_data';\n",
              "          await google.colab.output.renderOutput(dataTable, element);\n",
              "          const docLink = document.createElement('div');\n",
              "          docLink.innerHTML = docLinkHtml;\n",
              "          element.appendChild(docLink);\n",
              "        }\n",
              "      </script>\n",
              "    </div>\n",
              "  </div>\n",
              "  "
            ]
          },
          "metadata": {},
          "execution_count": 6
        }
      ]
    },
    {
      "cell_type": "markdown",
      "source": [
        "How many rows do we have?"
      ],
      "metadata": {
        "id": "f_ic4e4sXF7J"
      }
    },
    {
      "cell_type": "code",
      "source": [
        "len(df)"
      ],
      "metadata": {
        "colab": {
          "base_uri": "https://localhost:8080/"
        },
        "id": "hqoEDFkAmCE3",
        "outputId": "32a51662-d587-4c79-ea7c-83e6b47ac57b"
      },
      "execution_count": 7,
      "outputs": [
        {
          "output_type": "execute_result",
          "data": {
            "text/plain": [
              "751298"
            ]
          },
          "metadata": {},
          "execution_count": 7
        }
      ]
    },
    {
      "cell_type": "code",
      "source": [
        "new = df[:10000].copy()"
      ],
      "metadata": {
        "id": "SAmtbCbbmIsw"
      },
      "execution_count": 8,
      "outputs": []
    },
    {
      "cell_type": "code",
      "source": [
        "new.dtypes"
      ],
      "metadata": {
        "colab": {
          "base_uri": "https://localhost:8080/"
        },
        "id": "9ikyn2vCnDTE",
        "outputId": "d3759a7e-50a0-4e91-a524-0c07709bb4ae"
      },
      "execution_count": 9,
      "outputs": [
        {
          "output_type": "execute_result",
          "data": {
            "text/plain": [
              "MMSI                  int64\n",
              "BaseDateTime         object\n",
              "LAT                 float64\n",
              "LON                 float64\n",
              "SOG                 float64\n",
              "COG                 float64\n",
              "Heading             float64\n",
              "VesselName           object\n",
              "IMO                  object\n",
              "CallSign             object\n",
              "VesselType          float64\n",
              "Status              float64\n",
              "Length              float64\n",
              "Width               float64\n",
              "Draft               float64\n",
              "Cargo               float64\n",
              "TransceiverClass     object\n",
              "dtype: object"
            ]
          },
          "metadata": {},
          "execution_count": 9
        }
      ]
    },
    {
      "cell_type": "code",
      "source": [
        "# This line is only needed if you do not use 'cols'\n",
        "\n",
        "new['LON'] = new['LON'].astype('float')"
      ],
      "metadata": {
        "id": "u_ee_QAKnDuB"
      },
      "execution_count": 10,
      "outputs": []
    },
    {
      "cell_type": "code",
      "source": [
        "new.to_csv('mini_AIS_2022_12_31.csv')"
      ],
      "metadata": {
        "id": "6wyZpNHoyyp0"
      },
      "execution_count": 11,
      "outputs": []
    },
    {
      "cell_type": "markdown",
      "source": [
        "How many unique points in time (seconds) are there?"
      ],
      "metadata": {
        "id": "phrBZsrG8T1H"
      }
    },
    {
      "cell_type": "code",
      "source": [
        "len(df['BaseDateTime'].unique())"
      ],
      "metadata": {
        "id": "LZP5Tx3q2ZTP",
        "colab": {
          "base_uri": "https://localhost:8080/"
        },
        "outputId": "e7539b53-0934-40f3-c315-1a5aee1149b6"
      },
      "execution_count": 12,
      "outputs": [
        {
          "output_type": "execute_result",
          "data": {
            "text/plain": [
              "11634"
            ]
          },
          "metadata": {},
          "execution_count": 12
        }
      ]
    },
    {
      "cell_type": "markdown",
      "source": [
        "How about unique and NaN values for MMSI, VesselName, IMO, and CallSign?"
      ],
      "metadata": {
        "id": "0vOj6fGzWuSJ"
      }
    },
    {
      "cell_type": "code",
      "source": [
        "cols = ['MMSI', 'VesselName', 'IMO', 'CallSign']\n",
        "\n",
        "for col in cols:\n",
        "  print(f'Unique {col}s:', len(df[col].unique()))\n",
        "  print(f'Blank {col}s:', df[col].isna().sum(), '\\n')\n",
        "print('Done!')"
      ],
      "metadata": {
        "colab": {
          "base_uri": "https://localhost:8080/"
        },
        "id": "1_jLtLQo7KNq",
        "outputId": "d658e30e-cb49-41bc-cd75-42337c88bd96"
      },
      "execution_count": 13,
      "outputs": [
        {
          "output_type": "stream",
          "name": "stdout",
          "text": [
            "Unique MMSIs: 13024\n",
            "Blank MMSIs: 0 \n",
            "\n",
            "Unique VesselNames: 11631\n",
            "Blank VesselNames: 3034 \n",
            "\n",
            "Unique IMOs: 4051\n",
            "Blank IMOs: 358848 \n",
            "\n",
            "Unique CallSigns: 10315\n",
            "Blank CallSigns: 98316 \n",
            "\n",
            "Done!\n"
          ]
        }
      ]
    },
    {
      "cell_type": "markdown",
      "source": [
        "Hold on, there is something else we need to check."
      ],
      "metadata": {
        "id": "BlipkeAxXyyB"
      }
    },
    {
      "cell_type": "code",
      "source": [
        "len(df[df['IMO'] == 'IMO0000000'])"
      ],
      "metadata": {
        "colab": {
          "base_uri": "https://localhost:8080/"
        },
        "id": "LWTU7vDGRmoy",
        "outputId": "207e9896-875c-41d2-9471-b6ebddb36973"
      },
      "execution_count": 14,
      "outputs": [
        {
          "output_type": "execute_result",
          "data": {
            "text/plain": [
              "118815"
            ]
          },
          "metadata": {},
          "execution_count": 14
        }
      ]
    },
    {
      "cell_type": "code",
      "source": [
        "df['MMSI'].mode()"
      ],
      "metadata": {
        "colab": {
          "base_uri": "https://localhost:8080/"
        },
        "id": "wcKCbzYnUf4J",
        "outputId": "44839eef-5a3d-4bb3-a80e-be83eec4aebf"
      },
      "execution_count": 15,
      "outputs": [
        {
          "output_type": "execute_result",
          "data": {
            "text/plain": [
              "0    368061020\n",
              "Name: MMSI, dtype: int64"
            ]
          },
          "metadata": {},
          "execution_count": 15
        }
      ]
    },
    {
      "cell_type": "code",
      "source": [
        "df[df['MMSI'] == 367476050]"
      ],
      "metadata": {
        "colab": {
          "base_uri": "https://localhost:8080/",
          "height": 419
        },
        "id": "dKB2imFOVnnG",
        "outputId": "af239783-3f99-4382-fb24-58d3a278555b"
      },
      "execution_count": 16,
      "outputs": [
        {
          "output_type": "execute_result",
          "data": {
            "text/plain": [
              "             MMSI         BaseDateTime       LAT        LON  SOG    COG  \\\n",
              "881     367476050  2022-12-31T00:00:01  46.09432 -122.92185  0.0  250.8   \n",
              "5388    367476050  2022-12-31T00:01:03  46.09435 -122.92188  0.1  308.7   \n",
              "14672   367476050  2022-12-31T00:02:12  46.09439 -122.92198  0.1  281.0   \n",
              "18846   367476050  2022-12-31T00:03:14  46.09439 -122.92202  0.1  106.3   \n",
              "27966   367476050  2022-12-31T00:06:23  46.09432 -122.92184  0.1  318.1   \n",
              "...           ...                  ...       ...        ...  ...    ...   \n",
              "723785  367476050  2022-12-31T02:00:00  46.09436 -122.92185  0.1   92.7   \n",
              "731820  367476050  2022-12-31T03:07:35  46.09439 -122.92220  3.0  267.7   \n",
              "736508  367476050  2022-12-31T03:06:32  46.09436 -122.92180  0.0  301.5   \n",
              "745368  367476050  2022-12-31T01:51:22  46.09422 -122.92166  0.0  151.8   \n",
              "750387  367476050  2022-12-31T03:12:46  46.09132 -122.93163  4.7  221.5   \n",
              "\n",
              "        Heading VesselName  IMO CallSign  VesselType  Status  Length  Width  \\\n",
              "881       110.0  CLACKAMAS  NaN  WDF6614        31.0     0.0    20.0    6.0   \n",
              "5388       92.0  CLACKAMAS  NaN  WDF6614        31.0     0.0    20.0    6.0   \n",
              "14672      70.0  CLACKAMAS  NaN  WDF6614        31.0     0.0    20.0    6.0   \n",
              "18846      67.0  CLACKAMAS  NaN  WDF6614        31.0     0.0    20.0    6.0   \n",
              "27966     115.0  CLACKAMAS  NaN  WDF6614        31.0     0.0    20.0    6.0   \n",
              "...         ...        ...  ...      ...         ...     ...     ...    ...   \n",
              "723785    272.0  CLACKAMAS  NaN  WDF6614        31.0     0.0    20.0    6.0   \n",
              "731820    241.0  CLACKAMAS  NaN  WDF6614        31.0     0.0    20.0    6.0   \n",
              "736508    274.0  CLACKAMAS  NaN  WDF6614        31.0     0.0    20.0    6.0   \n",
              "745368    119.0  CLACKAMAS  NaN  WDF6614        31.0     0.0    20.0    6.0   \n",
              "750387    198.0  CLACKAMAS  NaN  WDF6614        31.0     0.0    20.0    6.0   \n",
              "\n",
              "        Draft  Cargo TransceiverClass  \n",
              "881       NaN   33.0                A  \n",
              "5388      NaN   33.0                A  \n",
              "14672     NaN   33.0                A  \n",
              "18846     NaN   33.0                A  \n",
              "27966     NaN   33.0                A  \n",
              "...       ...    ...              ...  \n",
              "723785    NaN   33.0                A  \n",
              "731820    NaN   33.0                A  \n",
              "736508    NaN   33.0                A  \n",
              "745368    NaN   33.0                A  \n",
              "750387    NaN   33.0                A  \n",
              "\n",
              "[155 rows x 17 columns]"
            ],
            "text/html": [
              "\n",
              "  <div id=\"df-8cd97265-3f09-4f72-a45e-1a04ac5286a8\">\n",
              "    <div class=\"colab-df-container\">\n",
              "      <div>\n",
              "<style scoped>\n",
              "    .dataframe tbody tr th:only-of-type {\n",
              "        vertical-align: middle;\n",
              "    }\n",
              "\n",
              "    .dataframe tbody tr th {\n",
              "        vertical-align: top;\n",
              "    }\n",
              "\n",
              "    .dataframe thead th {\n",
              "        text-align: right;\n",
              "    }\n",
              "</style>\n",
              "<table border=\"1\" class=\"dataframe\">\n",
              "  <thead>\n",
              "    <tr style=\"text-align: right;\">\n",
              "      <th></th>\n",
              "      <th>MMSI</th>\n",
              "      <th>BaseDateTime</th>\n",
              "      <th>LAT</th>\n",
              "      <th>LON</th>\n",
              "      <th>SOG</th>\n",
              "      <th>COG</th>\n",
              "      <th>Heading</th>\n",
              "      <th>VesselName</th>\n",
              "      <th>IMO</th>\n",
              "      <th>CallSign</th>\n",
              "      <th>VesselType</th>\n",
              "      <th>Status</th>\n",
              "      <th>Length</th>\n",
              "      <th>Width</th>\n",
              "      <th>Draft</th>\n",
              "      <th>Cargo</th>\n",
              "      <th>TransceiverClass</th>\n",
              "    </tr>\n",
              "  </thead>\n",
              "  <tbody>\n",
              "    <tr>\n",
              "      <th>881</th>\n",
              "      <td>367476050</td>\n",
              "      <td>2022-12-31T00:00:01</td>\n",
              "      <td>46.09432</td>\n",
              "      <td>-122.92185</td>\n",
              "      <td>0.0</td>\n",
              "      <td>250.8</td>\n",
              "      <td>110.0</td>\n",
              "      <td>CLACKAMAS</td>\n",
              "      <td>NaN</td>\n",
              "      <td>WDF6614</td>\n",
              "      <td>31.0</td>\n",
              "      <td>0.0</td>\n",
              "      <td>20.0</td>\n",
              "      <td>6.0</td>\n",
              "      <td>NaN</td>\n",
              "      <td>33.0</td>\n",
              "      <td>A</td>\n",
              "    </tr>\n",
              "    <tr>\n",
              "      <th>5388</th>\n",
              "      <td>367476050</td>\n",
              "      <td>2022-12-31T00:01:03</td>\n",
              "      <td>46.09435</td>\n",
              "      <td>-122.92188</td>\n",
              "      <td>0.1</td>\n",
              "      <td>308.7</td>\n",
              "      <td>92.0</td>\n",
              "      <td>CLACKAMAS</td>\n",
              "      <td>NaN</td>\n",
              "      <td>WDF6614</td>\n",
              "      <td>31.0</td>\n",
              "      <td>0.0</td>\n",
              "      <td>20.0</td>\n",
              "      <td>6.0</td>\n",
              "      <td>NaN</td>\n",
              "      <td>33.0</td>\n",
              "      <td>A</td>\n",
              "    </tr>\n",
              "    <tr>\n",
              "      <th>14672</th>\n",
              "      <td>367476050</td>\n",
              "      <td>2022-12-31T00:02:12</td>\n",
              "      <td>46.09439</td>\n",
              "      <td>-122.92198</td>\n",
              "      <td>0.1</td>\n",
              "      <td>281.0</td>\n",
              "      <td>70.0</td>\n",
              "      <td>CLACKAMAS</td>\n",
              "      <td>NaN</td>\n",
              "      <td>WDF6614</td>\n",
              "      <td>31.0</td>\n",
              "      <td>0.0</td>\n",
              "      <td>20.0</td>\n",
              "      <td>6.0</td>\n",
              "      <td>NaN</td>\n",
              "      <td>33.0</td>\n",
              "      <td>A</td>\n",
              "    </tr>\n",
              "    <tr>\n",
              "      <th>18846</th>\n",
              "      <td>367476050</td>\n",
              "      <td>2022-12-31T00:03:14</td>\n",
              "      <td>46.09439</td>\n",
              "      <td>-122.92202</td>\n",
              "      <td>0.1</td>\n",
              "      <td>106.3</td>\n",
              "      <td>67.0</td>\n",
              "      <td>CLACKAMAS</td>\n",
              "      <td>NaN</td>\n",
              "      <td>WDF6614</td>\n",
              "      <td>31.0</td>\n",
              "      <td>0.0</td>\n",
              "      <td>20.0</td>\n",
              "      <td>6.0</td>\n",
              "      <td>NaN</td>\n",
              "      <td>33.0</td>\n",
              "      <td>A</td>\n",
              "    </tr>\n",
              "    <tr>\n",
              "      <th>27966</th>\n",
              "      <td>367476050</td>\n",
              "      <td>2022-12-31T00:06:23</td>\n",
              "      <td>46.09432</td>\n",
              "      <td>-122.92184</td>\n",
              "      <td>0.1</td>\n",
              "      <td>318.1</td>\n",
              "      <td>115.0</td>\n",
              "      <td>CLACKAMAS</td>\n",
              "      <td>NaN</td>\n",
              "      <td>WDF6614</td>\n",
              "      <td>31.0</td>\n",
              "      <td>0.0</td>\n",
              "      <td>20.0</td>\n",
              "      <td>6.0</td>\n",
              "      <td>NaN</td>\n",
              "      <td>33.0</td>\n",
              "      <td>A</td>\n",
              "    </tr>\n",
              "    <tr>\n",
              "      <th>...</th>\n",
              "      <td>...</td>\n",
              "      <td>...</td>\n",
              "      <td>...</td>\n",
              "      <td>...</td>\n",
              "      <td>...</td>\n",
              "      <td>...</td>\n",
              "      <td>...</td>\n",
              "      <td>...</td>\n",
              "      <td>...</td>\n",
              "      <td>...</td>\n",
              "      <td>...</td>\n",
              "      <td>...</td>\n",
              "      <td>...</td>\n",
              "      <td>...</td>\n",
              "      <td>...</td>\n",
              "      <td>...</td>\n",
              "      <td>...</td>\n",
              "    </tr>\n",
              "    <tr>\n",
              "      <th>723785</th>\n",
              "      <td>367476050</td>\n",
              "      <td>2022-12-31T02:00:00</td>\n",
              "      <td>46.09436</td>\n",
              "      <td>-122.92185</td>\n",
              "      <td>0.1</td>\n",
              "      <td>92.7</td>\n",
              "      <td>272.0</td>\n",
              "      <td>CLACKAMAS</td>\n",
              "      <td>NaN</td>\n",
              "      <td>WDF6614</td>\n",
              "      <td>31.0</td>\n",
              "      <td>0.0</td>\n",
              "      <td>20.0</td>\n",
              "      <td>6.0</td>\n",
              "      <td>NaN</td>\n",
              "      <td>33.0</td>\n",
              "      <td>A</td>\n",
              "    </tr>\n",
              "    <tr>\n",
              "      <th>731820</th>\n",
              "      <td>367476050</td>\n",
              "      <td>2022-12-31T03:07:35</td>\n",
              "      <td>46.09439</td>\n",
              "      <td>-122.92220</td>\n",
              "      <td>3.0</td>\n",
              "      <td>267.7</td>\n",
              "      <td>241.0</td>\n",
              "      <td>CLACKAMAS</td>\n",
              "      <td>NaN</td>\n",
              "      <td>WDF6614</td>\n",
              "      <td>31.0</td>\n",
              "      <td>0.0</td>\n",
              "      <td>20.0</td>\n",
              "      <td>6.0</td>\n",
              "      <td>NaN</td>\n",
              "      <td>33.0</td>\n",
              "      <td>A</td>\n",
              "    </tr>\n",
              "    <tr>\n",
              "      <th>736508</th>\n",
              "      <td>367476050</td>\n",
              "      <td>2022-12-31T03:06:32</td>\n",
              "      <td>46.09436</td>\n",
              "      <td>-122.92180</td>\n",
              "      <td>0.0</td>\n",
              "      <td>301.5</td>\n",
              "      <td>274.0</td>\n",
              "      <td>CLACKAMAS</td>\n",
              "      <td>NaN</td>\n",
              "      <td>WDF6614</td>\n",
              "      <td>31.0</td>\n",
              "      <td>0.0</td>\n",
              "      <td>20.0</td>\n",
              "      <td>6.0</td>\n",
              "      <td>NaN</td>\n",
              "      <td>33.0</td>\n",
              "      <td>A</td>\n",
              "    </tr>\n",
              "    <tr>\n",
              "      <th>745368</th>\n",
              "      <td>367476050</td>\n",
              "      <td>2022-12-31T01:51:22</td>\n",
              "      <td>46.09422</td>\n",
              "      <td>-122.92166</td>\n",
              "      <td>0.0</td>\n",
              "      <td>151.8</td>\n",
              "      <td>119.0</td>\n",
              "      <td>CLACKAMAS</td>\n",
              "      <td>NaN</td>\n",
              "      <td>WDF6614</td>\n",
              "      <td>31.0</td>\n",
              "      <td>0.0</td>\n",
              "      <td>20.0</td>\n",
              "      <td>6.0</td>\n",
              "      <td>NaN</td>\n",
              "      <td>33.0</td>\n",
              "      <td>A</td>\n",
              "    </tr>\n",
              "    <tr>\n",
              "      <th>750387</th>\n",
              "      <td>367476050</td>\n",
              "      <td>2022-12-31T03:12:46</td>\n",
              "      <td>46.09132</td>\n",
              "      <td>-122.93163</td>\n",
              "      <td>4.7</td>\n",
              "      <td>221.5</td>\n",
              "      <td>198.0</td>\n",
              "      <td>CLACKAMAS</td>\n",
              "      <td>NaN</td>\n",
              "      <td>WDF6614</td>\n",
              "      <td>31.0</td>\n",
              "      <td>0.0</td>\n",
              "      <td>20.0</td>\n",
              "      <td>6.0</td>\n",
              "      <td>NaN</td>\n",
              "      <td>33.0</td>\n",
              "      <td>A</td>\n",
              "    </tr>\n",
              "  </tbody>\n",
              "</table>\n",
              "<p>155 rows × 17 columns</p>\n",
              "</div>\n",
              "      <button class=\"colab-df-convert\" onclick=\"convertToInteractive('df-8cd97265-3f09-4f72-a45e-1a04ac5286a8')\"\n",
              "              title=\"Convert this dataframe to an interactive table.\"\n",
              "              style=\"display:none;\">\n",
              "        \n",
              "  <svg xmlns=\"http://www.w3.org/2000/svg\" height=\"24px\"viewBox=\"0 0 24 24\"\n",
              "       width=\"24px\">\n",
              "    <path d=\"M0 0h24v24H0V0z\" fill=\"none\"/>\n",
              "    <path d=\"M18.56 5.44l.94 2.06.94-2.06 2.06-.94-2.06-.94-.94-2.06-.94 2.06-2.06.94zm-11 1L8.5 8.5l.94-2.06 2.06-.94-2.06-.94L8.5 2.5l-.94 2.06-2.06.94zm10 10l.94 2.06.94-2.06 2.06-.94-2.06-.94-.94-2.06-.94 2.06-2.06.94z\"/><path d=\"M17.41 7.96l-1.37-1.37c-.4-.4-.92-.59-1.43-.59-.52 0-1.04.2-1.43.59L10.3 9.45l-7.72 7.72c-.78.78-.78 2.05 0 2.83L4 21.41c.39.39.9.59 1.41.59.51 0 1.02-.2 1.41-.59l7.78-7.78 2.81-2.81c.8-.78.8-2.07 0-2.86zM5.41 20L4 18.59l7.72-7.72 1.47 1.35L5.41 20z\"/>\n",
              "  </svg>\n",
              "      </button>\n",
              "      \n",
              "  <style>\n",
              "    .colab-df-container {\n",
              "      display:flex;\n",
              "      flex-wrap:wrap;\n",
              "      gap: 12px;\n",
              "    }\n",
              "\n",
              "    .colab-df-convert {\n",
              "      background-color: #E8F0FE;\n",
              "      border: none;\n",
              "      border-radius: 50%;\n",
              "      cursor: pointer;\n",
              "      display: none;\n",
              "      fill: #1967D2;\n",
              "      height: 32px;\n",
              "      padding: 0 0 0 0;\n",
              "      width: 32px;\n",
              "    }\n",
              "\n",
              "    .colab-df-convert:hover {\n",
              "      background-color: #E2EBFA;\n",
              "      box-shadow: 0px 1px 2px rgba(60, 64, 67, 0.3), 0px 1px 3px 1px rgba(60, 64, 67, 0.15);\n",
              "      fill: #174EA6;\n",
              "    }\n",
              "\n",
              "    [theme=dark] .colab-df-convert {\n",
              "      background-color: #3B4455;\n",
              "      fill: #D2E3FC;\n",
              "    }\n",
              "\n",
              "    [theme=dark] .colab-df-convert:hover {\n",
              "      background-color: #434B5C;\n",
              "      box-shadow: 0px 1px 3px 1px rgba(0, 0, 0, 0.15);\n",
              "      filter: drop-shadow(0px 1px 2px rgba(0, 0, 0, 0.3));\n",
              "      fill: #FFFFFF;\n",
              "    }\n",
              "  </style>\n",
              "\n",
              "      <script>\n",
              "        const buttonEl =\n",
              "          document.querySelector('#df-8cd97265-3f09-4f72-a45e-1a04ac5286a8 button.colab-df-convert');\n",
              "        buttonEl.style.display =\n",
              "          google.colab.kernel.accessAllowed ? 'block' : 'none';\n",
              "\n",
              "        async function convertToInteractive(key) {\n",
              "          const element = document.querySelector('#df-8cd97265-3f09-4f72-a45e-1a04ac5286a8');\n",
              "          const dataTable =\n",
              "            await google.colab.kernel.invokeFunction('convertToInteractive',\n",
              "                                                     [key], {});\n",
              "          if (!dataTable) return;\n",
              "\n",
              "          const docLinkHtml = 'Like what you see? Visit the ' +\n",
              "            '<a target=\"_blank\" href=https://colab.research.google.com/notebooks/data_table.ipynb>data table notebook</a>'\n",
              "            + ' to learn more about interactive tables.';\n",
              "          element.innerHTML = '';\n",
              "          dataTable['output_type'] = 'display_data';\n",
              "          await google.colab.output.renderOutput(dataTable, element);\n",
              "          const docLink = document.createElement('div');\n",
              "          docLink.innerHTML = docLinkHtml;\n",
              "          element.appendChild(docLink);\n",
              "        }\n",
              "      </script>\n",
              "    </div>\n",
              "  </div>\n",
              "  "
            ]
          },
          "metadata": {},
          "execution_count": 16
        }
      ]
    },
    {
      "cell_type": "code",
      "source": [
        "import seaborn as sns\n",
        "import matplotlib.pyplot as plt"
      ],
      "metadata": {
        "id": "F5qU1VmTDXbU"
      },
      "execution_count": 17,
      "outputs": []
    },
    {
      "cell_type": "code",
      "source": [
        "clackamas = df[['LAT', 'LON']]"
      ],
      "metadata": {
        "id": "Qvk6D9wQDtlh"
      },
      "execution_count": 18,
      "outputs": []
    },
    {
      "cell_type": "code",
      "source": [
        "sns.scatterplot(x='LAT', y='LON', data=clackamas)"
      ],
      "metadata": {
        "colab": {
          "base_uri": "https://localhost:8080/",
          "height": 466
        },
        "id": "RJfgInAsDmVN",
        "outputId": "6c9ad4ab-3b41-42d9-bde9-7900f475c8a4"
      },
      "execution_count": 21,
      "outputs": [
        {
          "output_type": "execute_result",
          "data": {
            "text/plain": [
              "<Axes: xlabel='LAT', ylabel='LON'>"
            ]
          },
          "metadata": {},
          "execution_count": 21
        },
        {
          "output_type": "display_data",
          "data": {
            "text/plain": [
              "<Figure size 640x480 with 1 Axes>"
            ],
            "image/png": "[encoded data removed]"
          },
          "metadata": {}
        }
      ]
    },
    {
      "cell_type": "code",
      "source": [],
      "metadata": {
        "id": "NffJSXqFD8k0"
      },
      "execution_count": null,
      "outputs": []
    }
  ]
}